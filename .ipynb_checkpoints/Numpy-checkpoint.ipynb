{
 "cells": [
  {
   "cell_type": "code",
   "execution_count": 1,
   "metadata": {},
   "outputs": [],
   "source": [
    "import numpy as np"
   ]
  },
  {
   "cell_type": "code",
   "execution_count": 12,
   "metadata": {},
   "outputs": [
    {
     "data": {
      "text/plain": [
       "(2, 4)"
      ]
     },
     "execution_count": 12,
     "metadata": {},
     "output_type": "execute_result"
    }
   ],
   "source": [
    "#lista normal em python\n",
    "lis = [(1,2,3,4),(5,6,7,8,)]\n",
    "#vetor ou matriz com o numpy\n",
    "x=np.array(lis) \n",
    "type(x)\n",
    "x.ndim\n",
    "x.shape"
   ]
  },
  {
   "cell_type": "code",
   "execution_count": 13,
   "metadata": {},
   "outputs": [],
   "source": [
    "#Para saber a dimensão e número de linhas e colunas. No caso de uma dimensão, \n",
    "#o número de caracteres\n",
    "A = x.ndim\n",
    "B = x.shape"
   ]
  },
  {
   "cell_type": "code",
   "execution_count": 15,
   "metadata": {},
   "outputs": [
    {
     "name": "stdout",
     "output_type": "stream",
     "text": [
      "Resulting matrix:\n",
      "\n",
      " [[1 2 3 4]\n",
      " [5 6 7 8]] \n",
      "\n",
      "Dimensions: 2 \n",
      "shape (rows,columns): (2, 4)\n"
     ]
    }
   ],
   "source": [
    "print('Resulting matrix:\\n\\n',x,'\\n\\nDimensions:',A,\n",
    "'\\nshape (rows,columns):',B)"
   ]
  },
  {
   "cell_type": "code",
   "execution_count": 18,
   "metadata": {},
   "outputs": [
    {
     "name": "stdout",
     "output_type": "stream",
     "text": [
      "Resulting matrix:\n",
      "\n",
      " [[1 5]\n",
      " [2 6]\n",
      " [3 7]\n",
      " [4 8]] \n",
      "\n",
      "Dimensions: 2 Shape (rown, columns): (4, 2)\n"
     ]
    }
   ],
   "source": [
    "#Fazer a transposta de uma matriz\n",
    "t_x = x.transpose()\n",
    "t_x\n",
    "C = t_x.ndim\n",
    "D = t_x.shape\n",
    "print(\"Resulting matrix:\\n\\n\",t_x,\"\\n\\nDimensions:\",C,\"Shape (rown, columns):\",D)"
   ]
  },
  {
   "cell_type": "code",
   "execution_count": 34,
   "metadata": {},
   "outputs": [
    {
     "data": {
      "text/plain": [
       "array([0, 1, 2, 3, 4, 5, 6, 7, 8, 9])"
      ]
     },
     "execution_count": 34,
     "metadata": {},
     "output_type": "execute_result"
    },
    {
     "data": {
      "text/plain": [
       "array([ 0,  2,  4,  6,  8, 10])"
      ]
     },
     "execution_count": 34,
     "metadata": {},
     "output_type": "execute_result"
    }
   ],
   "source": [
    "#criando array com a função arange(). Não define o tipo de elemento.\n",
    "np.arange(10)\n",
    "pares_array=np.arange(0,12,2)\n",
    "pares_array"
   ]
  },
  {
   "cell_type": "code",
   "execution_count": 23,
   "metadata": {},
   "outputs": [
    {
     "data": {
      "text/plain": [
       "array([ 0.,  2.,  4.,  6.,  8., 10.])"
      ]
     },
     "execution_count": 23,
     "metadata": {},
     "output_type": "execute_result"
    }
   ],
   "source": [
    "#usando o comando dtype definimos o tipo do número\n",
    "pares_array2=np.arange(0,12,2,dtype=float)\n",
    "pares_array2"
   ]
  },
  {
   "cell_type": "code",
   "execution_count": 36,
   "metadata": {},
   "outputs": [
    {
     "name": "stdout",
     "output_type": "stream",
     "text": [
      "Here are the arrays:\n",
      "\n",
      " y= [0.   1.25 2.5  3.75 5.  ] \n",
      "\n",
      "z= [ 51  52  53  54  55  56  57  58  59  60  61  62  63  64  65  66  67  68\n",
      "  69  70  71  72  73  74  75  76  77  78  79  80  81  82  83  84  85  86\n",
      "  87  88  89  90  91  92  93  94  95  96  97  98  99 100]\n"
     ]
    }
   ],
   "source": [
    "#retorna um array uniformemente espaçado em um intervalo definido\n",
    "\n",
    "y=np.linspace(0,5,5)#5 números com intervalos de 5 entre eles de 0 a 5\n",
    "z=np.linspace(51,100, dtype=int)#quando não definido o espaçamento, o default é 50\n",
    "print('Here are the arrays:\\n\\n','y=',y,'\\n\\nz=',z)"
   ]
  },
  {
   "cell_type": "code",
   "execution_count": 3,
   "metadata": {},
   "outputs": [
    {
     "data": {
      "text/plain": [
       "array([0., 0., 0.])"
      ]
     },
     "execution_count": 3,
     "metadata": {},
     "output_type": "execute_result"
    },
    {
     "data": {
      "text/plain": [
       "array([[0, 0, 0],\n",
       "       [0, 0, 0],\n",
       "       [0, 0, 0]])"
      ]
     },
     "execution_count": 3,
     "metadata": {},
     "output_type": "execute_result"
    },
    {
     "data": {
      "text/plain": [
       "array([1., 1., 1., 1., 1.])"
      ]
     },
     "execution_count": 3,
     "metadata": {},
     "output_type": "execute_result"
    },
    {
     "data": {
      "text/plain": [
       "array([[1, 1, 1, 1, 1, 1],\n",
       "       [1, 1, 1, 1, 1, 1]])"
      ]
     },
     "execution_count": 3,
     "metadata": {},
     "output_type": "execute_result"
    },
    {
     "data": {
      "text/plain": [
       "array([[1., 0.],\n",
       "       [0., 1.]])"
      ]
     },
     "execution_count": 3,
     "metadata": {},
     "output_type": "execute_result"
    }
   ],
   "source": [
    "from IPython.core.interactiveshell import InteractiveShell\n",
    "InteractiveShell.ast_node_interactivity = \"all\"\n",
    "\n",
    "#para criar matrizes de zero, um ou identidade\n",
    "np.zeros(3)\n",
    "np.zeros((3,3),dtype=int)\n",
    "np.ones(5)\n",
    "np.ones((2,6), dtype=int)\n",
    "np.eye(2)#obviamente, sempre será uma matriz quadrada"
   ]
  },
  {
   "cell_type": "code",
   "execution_count": 6,
   "metadata": {},
   "outputs": [
    {
     "data": {
      "text/plain": [
       "array([0.06804854, 0.33464227, 0.21810895, 0.87462038, 0.74608505])"
      ]
     },
     "execution_count": 6,
     "metadata": {},
     "output_type": "execute_result"
    },
    {
     "data": {
      "text/plain": [
       "array([[0.07185203, 0.08148535, 0.32774432],\n",
       "       [0.54125976, 0.37305103, 0.10768282]])"
      ]
     },
     "execution_count": 6,
     "metadata": {},
     "output_type": "execute_result"
    },
    {
     "data": {
      "text/plain": [
       "array([-1.16688013, -0.80554966, -1.19695296,  0.7981727 , -1.9535314 ])"
      ]
     },
     "execution_count": 6,
     "metadata": {},
     "output_type": "execute_result"
    },
    {
     "data": {
      "text/plain": [
       "array([[ 0.18728154,  1.51969412,  1.36172421],\n",
       "       [ 0.8342141 , -0.12601766, -0.66913711]])"
      ]
     },
     "execution_count": 6,
     "metadata": {},
     "output_type": "execute_result"
    },
    {
     "data": {
      "text/plain": [
       "1"
      ]
     },
     "execution_count": 6,
     "metadata": {},
     "output_type": "execute_result"
    },
    {
     "data": {
      "text/plain": [
       "array([57, 16, 92, 71, 69, 83, 76, 26])"
      ]
     },
     "execution_count": 6,
     "metadata": {},
     "output_type": "execute_result"
    },
    {
     "data": {
      "text/plain": [
       "array([[42, 73, 55],\n",
       "       [67, 60, 83]])"
      ]
     },
     "execution_count": 6,
     "metadata": {},
     "output_type": "execute_result"
    }
   ],
   "source": [
    "#Treŝ funções para gerar números aleatórios\n",
    "#comando rand() gera númeors aleatórios entre 0 e 1\n",
    "#comando randn() gera númeors aleatórios com distribuição normal ou Gaussiana\n",
    "#comando randint gera númeors aleatórios inteiros detro de um intervalo definido\n",
    "\n",
    "np.random.rand(5)\n",
    "np.random.rand(2,3)\n",
    "np.random.randn(5)\n",
    "np.random.randn(2,3)\n",
    "\n",
    "#Syntax: np.random,randint(lower value, higher value, number of values)\n",
    "np.random.randint(1,5)\n",
    "np.random.randint(1,100,8)\n",
    "np.random.randint(1,100,(2,3))#para gerar uma matriz\n"
   ]
  },
  {
   "cell_type": "markdown",
   "metadata": {},
   "source": [
    "# **MANIPULATION ARRAYS**"
   ]
  },
  {
   "cell_type": "code",
   "execution_count": 8,
   "metadata": {},
   "outputs": [
    {
     "data": {
      "text/plain": [
       "array([0, 1, 2, 3, 4, 5, 6, 7, 8, 9])"
      ]
     },
     "execution_count": 8,
     "metadata": {},
     "output_type": "execute_result"
    },
    {
     "data": {
      "text/plain": [
       "array([-0.37558786, -0.50317731, -0.30591593, -0.29731434, -0.87323963,\n",
       "       -0.4178281 , -2.10142008,  0.15476333, -0.53551359,  1.69241014])"
      ]
     },
     "execution_count": 8,
     "metadata": {},
     "output_type": "execute_result"
    }
   ],
   "source": [
    "#Função reshape() altera a dimensionalidade do array\n",
    "\n",
    "freq=np.arange(10)\n",
    "value=np.random.randn(10)\n",
    "freq\n",
    "value"
   ]
  },
  {
   "cell_type": "code",
   "execution_count": 18,
   "metadata": {},
   "outputs": [
    {
     "data": {
      "text/plain": [
       "array([[0, 1, 2, 3, 4],\n",
       "       [5, 6, 7, 8, 9]])"
      ]
     },
     "execution_count": 18,
     "metadata": {},
     "output_type": "execute_result"
    },
    {
     "data": {
      "text/plain": [
       "array([[-0.37558786, -0.50317731],\n",
       "       [-0.30591593, -0.29731434],\n",
       "       [-0.87323963, -0.4178281 ],\n",
       "       [-2.10142008,  0.15476333],\n",
       "       [-0.53551359,  1.69241014]])"
      ]
     },
     "execution_count": 18,
     "metadata": {},
     "output_type": "execute_result"
    }
   ],
   "source": [
    "np.reshape(freq,(2,5))\n",
    "np.reshape(value,(5,2))"
   ]
  },
  {
   "cell_type": "code",
   "execution_count": 27,
   "metadata": {},
   "outputs": [
    {
     "data": {
      "text/plain": [
       "1.6924101384767904"
      ]
     },
     "execution_count": 27,
     "metadata": {},
     "output_type": "execute_result"
    },
    {
     "data": {
      "text/plain": [
       "1.6924101384767904"
      ]
     },
     "execution_count": 27,
     "metadata": {},
     "output_type": "execute_result"
    },
    {
     "data": {
      "text/plain": [
       "0"
      ]
     },
     "execution_count": 27,
     "metadata": {},
     "output_type": "execute_result"
    },
    {
     "data": {
      "text/plain": [
       "0"
      ]
     },
     "execution_count": 27,
     "metadata": {},
     "output_type": "execute_result"
    },
    {
     "data": {
      "text/plain": [
       "9"
      ]
     },
     "execution_count": 27,
     "metadata": {},
     "output_type": "execute_result"
    },
    {
     "data": {
      "text/plain": [
       "0"
      ]
     },
     "execution_count": 27,
     "metadata": {},
     "output_type": "execute_result"
    }
   ],
   "source": [
    "#encontrar máx(), min(), argumento do máx e min\n",
    "\n",
    "#duas maneiras\n",
    "value.max()\n",
    "max(value)\n",
    "min(freq)\n",
    "freq.min()\n",
    "#apenas uma maneira para os argumentos, lembrando que começa a contar de 0\n",
    "value.argmax()\n",
    "freq.argmin()"
   ]
  },
  {
   "cell_type": "code",
   "execution_count": 32,
   "metadata": {},
   "outputs": [
    {
     "name": "stdout",
     "output_type": "stream",
     "text": [
      "Maximum value: 1.6924101384767904\n",
      "Minimum Value: -2.101420077256655\n",
      "Item 9 is the maximum value, while item 6 is the minimum value\n"
     ]
    }
   ],
   "source": [
    "A = value.max();B = value.min();\n",
    "C = value.argmax(); D = value.argmin()\n",
    "\n",
    "print('Maximum value: {}\\nMinimum Value: {}\\\n",
    "\\nItem {} is the maximum value, while item {}\\\n",
    " is the minimum value'.format(A,B,C,D))"
   ]
  },
  {
   "cell_type": "markdown",
   "metadata": {},
   "source": [
    "#**INDEXING AND SELECTING ARRAY**"
   ]
  },
  {
   "cell_type": "code",
   "execution_count": null,
   "metadata": {},
   "outputs": [],
   "source": []
  }
 ],
 "metadata": {
  "kernelspec": {
   "display_name": "Python 3",
   "language": "python",
   "name": "python3"
  },
  "language_info": {
   "codemirror_mode": {
    "name": "ipython",
    "version": 3
   },
   "file_extension": ".py",
   "mimetype": "text/x-python",
   "name": "python",
   "nbconvert_exporter": "python",
   "pygments_lexer": "ipython3",
   "version": "3.7.6"
  }
 },
 "nbformat": 4,
 "nbformat_minor": 4
}
